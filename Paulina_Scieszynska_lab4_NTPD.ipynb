{
 "cells": [
  {
   "cell_type": "markdown",
   "metadata": {},
   "source": [
    "# Laboratorium 4\n",
    "### Nowoczesne Technologie Przetwarzania Danych\n",
    "## *Docker i konteneryzacja modelu ML*\n",
    "#### Paulina Ścieszyńska\n",
    "_________________________________________________________________\n",
    "### Zadanie 1: Przygotowanie aplikacji API"
   ]
  },
  {
   "cell_type": "markdown",
   "metadata": {},
   "source": [
    "Przygotowałam plik `requirements.txt` zawierający odpowiednie biblioteki oraz zainstalowałam `Docker`."
   ]
  },
  {
   "cell_type": "markdown",
   "metadata": {},
   "source": [
    "_________________________________________________________________\n",
    "### Zadanie 2: Dockerfile i budowa obrazu"
   ]
  },
  {
   "cell_type": "markdown",
   "metadata": {},
   "source": [
    "Utworzyłam plik `app.py`:"
   ]
  },
  {
   "cell_type": "code",
   "execution_count": null,
   "metadata": {},
   "outputs": [],
   "source": [
    "from flask import Flask\n",
    "\n",
    "app = Flask(__name__)\n",
    "\n",
    "@app.route(\"/\")\n",
    "def home():\n",
    "    return \"Hello, Docker!\"\n",
    "\n",
    "if __name__ == \"__main__\":\n",
    "    app.run(host=\"0.0.0.0\", port=5000)"
   ]
  },
  {
   "cell_type": "markdown",
   "metadata": {},
   "source": [
    "Utworzyłam plik `Dockerfile` o następującej treści:"
   ]
  },
  {
   "cell_type": "code",
   "execution_count": null,
   "metadata": {},
   "outputs": [],
   "source": [
    "# Użyj oficjalnego obrazu Pythona jako bazowego\n",
    "FROM python:3.9-slim\n",
    "\n",
    "# Ustaw katalog roboczy w kontenerze\n",
    "WORKDIR /app\n",
    "\n",
    "# Skopiuj plik requirements.txt do kontenera\n",
    "COPY requirements.txt .\n",
    "\n",
    "# Zainstaluj zależności Pythona\n",
    "RUN pip install --no-cache-dir -r requirements.txt\n",
    "\n",
    "# Skopiuj wszystkie pliki aplikacji do kontenera\n",
    "COPY . .\n",
    "\n",
    "# Ustaw domyślny port aplikacji\n",
    "EXPOSE 5000\n",
    "\n",
    "# Uruchom serwer aplikacji (np. Flask)\n",
    "CMD [\"python\", \"app.py\"]"
   ]
  },
  {
   "cell_type": "markdown",
   "metadata": {},
   "source": [
    "Zbudowałam obraz Dockera komendą: `docker build -t my-ml-app .`.\n",
    "\n",
    "Następnie uruchomiłam kontener: `docker run -p 5000:5000 my-ml-app`.\n",
    "\n",
    "Wynik uruchomienia w przeglądarce adresu `http://127.0.0.1:5000`:"
   ]
  },
  {
   "attachments": {
    "{DC52F693-6D9E-4758-8422-488FEBBCE8B7}.png": {
     "image/png": "[encoded data removed]"
    }
   },
   "cell_type": "markdown",
   "metadata": {},
   "source": [
    "![{DC52F693-6D9E-4758-8422-488FEBBCE8B7}.png](attachment:{DC52F693-6D9E-4758-8422-488FEBBCE8B7}.png)"
   ]
  },
  {
   "cell_type": "markdown",
   "metadata": {},
   "source": [
    "_________________________________________________________________\n",
    "### Zadanie 3: Uruchamianie kontenera i testowanie endpointu"
   ]
  },
  {
   "cell_type": "markdown",
   "metadata": {},
   "source": [
    "Sprawdzamy, czy uruchomiony kontener działa i wystawia port:"
   ]
  },
  {
   "cell_type": "code",
   "execution_count": 1,
   "metadata": {},
   "outputs": [
    {
     "name": "stdout",
     "output_type": "stream",
     "text": [
      "CONTAINER ID   IMAGE       COMMAND           CREATED         STATUS         PORTS                    NAMES\n",
      "830303cdc7ce   my-ml-app   \"python app.py\"   4 minutes ago   Up 4 minutes   0.0.0.0:5000->5000/tcp   amazing_bhaskara\n"
     ]
    }
   ],
   "source": [
    "!docker ps"
   ]
  },
  {
   "cell_type": "markdown",
   "metadata": {},
   "source": [
    "Port `5000` jest widoczny w kolumnie `PORTS`, oznacza to co oznacza, że serwer działa poprawnie."
   ]
  },
  {
   "cell_type": "markdown",
   "metadata": {},
   "source": [
    "Dodałam obsługę endpointu `/predict` do pliku `app.py`:"
   ]
  },
  {
   "cell_type": "code",
   "execution_count": null,
   "metadata": {},
   "outputs": [],
   "source": [
    "model = joblib.load(\"model.pkl\")\n",
    "\n",
    "@app.route(\"/predict\", methods=[\"POST\"])\n",
    "def predict():\n",
    "    data = request.get_json()\n",
    "    input_data = np.array(data[\"input\"]).reshape(1, -1)\n",
    "    prediction = model.predict(input_data)\n",
    "    return jsonify({\"prediction\": int(prediction[0])})"
   ]
  },
  {
   "cell_type": "markdown",
   "metadata": {},
   "source": [
    "Następnie przetestowałam zapytanie `POST` za pomocą `cURL`:"
   ]
  },
  {
   "attachments": {
    "{B1807172-0E1A-45C7-8B92-F54240D6773A}.png": {
     "image/png": "[encoded data removed]"
    }
   },
   "cell_type": "markdown",
   "metadata": {},
   "source": [
    "![{B1807172-0E1A-45C7-8B92-F54240D6773A}.png](attachment:{B1807172-0E1A-45C7-8B92-F54240D6773A}.png)"
   ]
  },
  {
   "cell_type": "markdown",
   "metadata": {},
   "source": [
    "_________________________________________________________________\n",
    "### Zadanie 4: Konfiguracja Docker Compose"
   ]
  },
  {
   "cell_type": "markdown",
   "metadata": {},
   "source": [
    "Stworzyłam plik `docker-compose.yml` o następujacej treści:"
   ]
  },
  {
   "cell_type": "code",
   "execution_count": null,
   "metadata": {},
   "outputs": [],
   "source": [
    "version: \"3.8\"\n",
    "\n",
    "services:\n",
    "  app:\n",
    "    build:\n",
    "      context: .\n",
    "      dockerfile: Dockerfile\n",
    "    ports:\n",
    "      - \"5000:5000\"\n",
    "    networks:\n",
    "      - app_network\n",
    "    depends_on:\n",
    "      - db\n",
    "\n",
    "  db:\n",
    "    image: postgres:13\n",
    "    environment:\n",
    "      POSTGRES_USER: postgres\n",
    "      POSTGRES_PASSWORD: postgres\n",
    "      POSTGRES_DB: mydatabase\n",
    "    ports:\n",
    "      - \"5432:5432\"\n",
    "    networks:\n",
    "      - app_network\n",
    "\n",
    "networks:\n",
    "  app_network:\n",
    "    driver: bridge"
   ]
  },
  {
   "cell_type": "markdown",
   "metadata": {},
   "source": [
    "Dodałam również obsługę endpointu `/test_db`:"
   ]
  },
  {
   "cell_type": "code",
   "execution_count": null,
   "metadata": {},
   "outputs": [],
   "source": [
    "@app.route(\"/test_db\", methods=[\"GET\"])\n",
    "def test_db():\n",
    "    try:\n",
    "        conn = psycopg2.connect(\n",
    "            host=\"db\",  # Nazwa serwisu z docker-compose\n",
    "            database=\"mydatabase\",\n",
    "            user=\"postgres\",\n",
    "            password=\"postgres\"\n",
    "        )\n",
    "        cursor = conn.cursor()\n",
    "        cursor.execute(\"SELECT 1;\")\n",
    "        result = cursor.fetchone()\n",
    "        conn.close()\n",
    "        return jsonify({\"db_status\": \"connected\", \"result\": result})\n",
    "    except Exception as e:\n",
    "        return jsonify({\"db_status\": \"error\", \"error\": str(e)})"
   ]
  },
  {
   "cell_type": "markdown",
   "metadata": {},
   "source": [
    "Przetestowałam połączenie wykonując zapytanie `cURL`:"
   ]
  },
  {
   "attachments": {
    "{FC9C7BA5-F276-4AD7-A240-FD13E309CC3B}.png": {
     "image/png": "[encoded data removed]"
    }
   },
   "cell_type": "markdown",
   "metadata": {},
   "source": [
    "![{FC9C7BA5-F276-4AD7-A240-FD13E309CC3B}.png](attachment:{FC9C7BA5-F276-4AD7-A240-FD13E309CC3B}.png)"
   ]
  },
  {
   "cell_type": "markdown",
   "metadata": {},
   "source": [
    "_________________________________________________________________\n",
    "### Zadanie 5: Uruchomienie aplikacji w trybie produkcyjnym"
   ]
  },
  {
   "cell_type": "markdown",
   "metadata": {},
   "source": [
    "#### Uruchomienie aplikacji lokalnie:"
   ]
  },
  {
   "cell_type": "markdown",
   "metadata": {},
   "source": [
    "1. Utwórz środowisko wirtualne\n",
    "\n",
    "`python -m venv myenv`\n",
    "\n",
    "2. Aktywuj środowisko\n",
    "* Windows (CMD)\n",
    "\n",
    "`myenv\\Scripts\\activate`\n",
    "* Windows (PowerShell)\n",
    "\n",
    "`.\\myenv\\Scripts\\Activate`\n",
    "\n",
    "3. Zainstaluj zależności:\n",
    "\n",
    "`pip install -r requirements.txt`\n",
    "\n",
    "4. Uruchom aplikację:\n",
    "\n",
    "`python app.py`\n",
    "\n",
    "5. Testuj aplikację:\n",
    "\n",
    "* Otwórz przeglądarkę i przejdź pod adres: `http://localhost:5000`.\n",
    "* Przetestuj endpointy za pomocą `curl` lub Postmana."
   ]
  },
  {
   "cell_type": "markdown",
   "metadata": {},
   "source": [
    "#### Uruchomienie aplikacji za pomocą Dockera:"
   ]
  },
  {
   "cell_type": "markdown",
   "metadata": {},
   "source": [
    "1. Zbuduj obraz Dockera:\n",
    "\n",
    "`docker build -t my-ml-app .`\n",
    "\n",
    "2. Uruchom kontener:\n",
    "\n",
    "`docker run -p 5000:5000 my-ml-app`\n",
    "\n",
    "5. Testuj aplikację:\n",
    "\n",
    "* Otwórz przeglądarkę i przejdź pod adres: `http://localhost:5000`.\n",
    "* Przetestuj endpointy za pomocą `curl` lub Postmana."
   ]
  },
  {
   "cell_type": "markdown",
   "metadata": {},
   "source": [
    "#### Uruchamianie aplikacji za pomocą Docker Compose"
   ]
  },
  {
   "cell_type": "markdown",
   "metadata": {},
   "source": [
    "1. Uruchom serwisy:\n",
    "\n",
    "`docker-compose up --build`\n",
    "\n",
    "5. Testuj aplikację:\n",
    "\n",
    "* Otwórz przeglądarkę i przejdź pod adres: `http://localhost:5000`.\n",
    "* Przetestuj endpointy za pomocą `curl` lub Postmana."
   ]
  },
  {
   "cell_type": "markdown",
   "metadata": {},
   "source": [
    "#### Konfiguracja parametrów i zasobów"
   ]
  },
  {
   "cell_type": "markdown",
   "metadata": {},
   "source": [
    "1. Zmienne środowiskowe:\n",
    "\n",
    "* Parametry bazy danych są konfigurowane w pliku `docker-compose.yml`:\n",
    "\n",
    "```\n",
    "environment:\n",
    "  POSTGRES_USER: postgres\n",
    "  POSTGRES_PASSWORD: postgres\n",
    "  POSTGRES_DB: mydatabase\n",
    "```\n",
    "\n",
    "* Jeśli uruchamiasz aplikację lokalnie, upewnij się, że te same parametry są używane w kodzie aplikacji (`app.py`).\n",
    "\n",
    "2. Zasoby wymagane przez aplikację:\n",
    "\n",
    "* Python 3.9 lub nowszy.\n",
    "* Biblioteki wymienione w `requirements.txt`.\n",
    "* Docker i Docker Compose (jeśli uruchamiasz aplikację w kontenerach)."
   ]
  },
  {
   "cell_type": "markdown",
   "metadata": {},
   "source": [
    "_________________________________________________________________\n",
    "### Wnioski"
   ]
  },
  {
   "cell_type": "markdown",
   "metadata": {},
   "source": [
    "Na laboratorium przećwiczyłam:\n",
    "- Tworzenie i uruchamianie aplikacji ML lokalnie oraz w kontenerach Docker.\n",
    "- Konfigurację pliku `Dockerfile` do budowy obrazu aplikacji.\n",
    "- Tworzenie i zarządzanie wieloma serwisami za pomocą `docker-compose`.\n",
    "- Konfigurację bazy danych PostgreSQL i integrację z aplikacją Flask.\n",
    "- Testowanie endpointów aplikacji za pomocą `curl` i Postmana.\n",
    "- Rozwiązywanie problemów związanych z zależnościami i konfiguracją Dockera.\n",
    "- Przygotowanie repozytorium na GitHubie z instrukcjami uruchamiania aplikacji."
   ]
  }
 ],
 "metadata": {
  "kernelspec": {
   "display_name": ".venv",
   "language": "python",
   "name": "python3"
  },
  "language_info": {
   "codemirror_mode": {
    "name": "ipython",
    "version": 3
   },
   "file_extension": ".py",
   "mimetype": "text/x-python",
   "name": "python",
   "nbconvert_exporter": "python",
   "pygments_lexer": "ipython3",
   "version": "3.12.3"
  }
 },
 "nbformat": 4,
 "nbformat_minor": 2
}
